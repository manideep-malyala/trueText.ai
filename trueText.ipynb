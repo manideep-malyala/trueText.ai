{
  "nbformat": 4,
  "nbformat_minor": 0,
  "metadata": {
    "colab": {
      "provenance": [],
      "gpuType": "T4",
      "authorship_tag": "ABX9TyPAkmPE532qtw9tznS6SAFz",
      "include_colab_link": true
    },
    "kernelspec": {
      "name": "python3",
      "display_name": "Python 3"
    },
    "language_info": {
      "name": "python"
    },
    "accelerator": "GPU"
  },
  "cells": [
    {
      "cell_type": "markdown",
      "metadata": {
        "id": "view-in-github",
        "colab_type": "text"
      },
      "source": [
        "<a href=\"https://colab.research.google.com/github/manideep-malyala/trueText.ai/blob/main/trueText.ipynb\" target=\"_parent\"><img src=\"https://colab.research.google.com/assets/colab-badge.svg\" alt=\"Open In Colab\"/></a>"
      ]
    },
    {
      "cell_type": "code",
      "execution_count": null,
      "metadata": {
        "id": "ZsJUxc0aRsAf"
      },
      "outputs": [],
      "source": [
        "!pip install git+https://github.com/openai/whisper.git -q\n",
        "!pip install yt-dlp -q\n",
        "!mkdir temp_direc in_dump out_dump pro_engine\n",
        "import whisper, os, yt_dlp, textwrap, contextlib, subprocess\n",
        "\n",
        "model = whisper.load_model(\"medium\", download_root=\"/content/pro_engine/\", in_memory=True)"
      ]
    },
    {
      "cell_type": "code",
      "source": [
        "def process_audio(resource=\"ignore\", input_dir=\"/content/in_dump/\", output_dir=\"/content/out_dump/\") :\n",
        "\n",
        "    if resource != \"ignore\":\n",
        "        print(\"🅳🅾🆆🅽🅻🅾🅰🅳🅸🅽🅶 🅰🆄🅳🅸🅾 ...\")\n",
        "        with contextlib.redirect_stdout(subprocess.DEVNULL):\n",
        "            subprocess.run([\"yt-dlp\", resource, \"-o\", f\"{input_dir}/audio.mp3\",\n",
        "                            \"-f\", \"bestaudio/best\", \"--extract-audio\", \"--audio-format\",\n",
        "                            \"mp3\", \"--audio-quality\", \"192\"\n",
        "                          ])\n",
        "    else:\n",
        "        print(\"🆄🆂🅸🅽🅶 🅻🅾🅲🅰🅻 🅰🆄🅳🅸🅾 ...\")\n",
        "        os.replace(\"/content/temp_direc/audio.mp3\", f\"{input_dir}/audio.mp3\")\n",
        "\n",
        "    audio_path = f\"{input_dir}/audio.mp3\"\n",
        "    print(\"🆃🆁🅰🅽🆂🅲🆁🅸🅱🅸🅽🅶 🅰🆄🅳🅸🅾 ...\")\n",
        "    result = model.transcribe(audio_path)\n",
        "\n",
        "    output_file_path = f\"{output_dir}/transcData.txt\"\n",
        "    with open(output_file_path, \"w\") as output_file:\n",
        "        output_file.write(textwrap.fill(result[\"text\"].lstrip(), width=100))\n",
        "\n",
        "    print(\"\\n🅳🅾🅽🅴!\")"
      ],
      "metadata": {
        "id": "shUaBlDUYhCD"
      },
      "execution_count": 33,
      "outputs": []
    },
    {
      "cell_type": "code",
      "source": [
        "def clear_workspace():\n",
        "    !rm -rf /content/in_dump/* /content/out_dump/* /content/temp_direc/*\n",
        "    print(\"🅲🅻🅴🅰🆁🅴🅳 🆆🅾🆁🅺🆂🅿🅰🅲🅴 ...\")\n",
        "clear_workspace()"
      ],
      "metadata": {
        "id": "VDMURQRlBg7w"
      },
      "execution_count": null,
      "outputs": []
    },
    {
      "cell_type": "code",
      "source": [
        "meta = \"youtube-link-here\"\n",
        "process_audio(meta)"
      ],
      "metadata": {
        "id": "9wd_6om6svYM"
      },
      "execution_count": null,
      "outputs": []
    }
  ]
}